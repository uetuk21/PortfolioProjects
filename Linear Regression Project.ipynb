{
 "cells": [
  {
   "cell_type": "code",
   "execution_count": 27,
   "metadata": {},
   "outputs": [],
   "source": [
    "import pandas as pd\n",
    "import numpy as np\n",
    "import seaborn as sb\n",
    "import matplotlib.pyplot as plt\n",
    "import yfinance as yf\n",
    "from yahoofinancials import YahooFinancials"
   ]
  },
  {
   "cell_type": "markdown",
   "metadata": {},
   "source": [
    "### Get data for SPY and GOOG"
   ]
  },
  {
   "cell_type": "code",
   "execution_count": 3,
   "metadata": {},
   "outputs": [
    {
     "data": {
      "text/html": [
       "<div>\n",
       "<style scoped>\n",
       "    .dataframe tbody tr th:only-of-type {\n",
       "        vertical-align: middle;\n",
       "    }\n",
       "\n",
       "    .dataframe tbody tr th {\n",
       "        vertical-align: top;\n",
       "    }\n",
       "\n",
       "    .dataframe thead tr th {\n",
       "        text-align: left;\n",
       "    }\n",
       "\n",
       "    .dataframe thead tr:last-of-type th {\n",
       "        text-align: right;\n",
       "    }\n",
       "</style>\n",
       "<table border=\"1\" class=\"dataframe\">\n",
       "  <thead>\n",
       "    <tr>\n",
       "      <th></th>\n",
       "      <th colspan=\"2\" halign=\"left\">Adj Close</th>\n",
       "      <th colspan=\"2\" halign=\"left\">Close</th>\n",
       "      <th colspan=\"2\" halign=\"left\">High</th>\n",
       "      <th colspan=\"2\" halign=\"left\">Low</th>\n",
       "      <th colspan=\"2\" halign=\"left\">Open</th>\n",
       "      <th colspan=\"2\" halign=\"left\">Volume</th>\n",
       "    </tr>\n",
       "    <tr>\n",
       "      <th></th>\n",
       "      <th>GOOG</th>\n",
       "      <th>SPY</th>\n",
       "      <th>GOOG</th>\n",
       "      <th>SPY</th>\n",
       "      <th>GOOG</th>\n",
       "      <th>SPY</th>\n",
       "      <th>GOOG</th>\n",
       "      <th>SPY</th>\n",
       "      <th>GOOG</th>\n",
       "      <th>SPY</th>\n",
       "      <th>GOOG</th>\n",
       "      <th>SPY</th>\n",
       "    </tr>\n",
       "    <tr>\n",
       "      <th>Date</th>\n",
       "      <th></th>\n",
       "      <th></th>\n",
       "      <th></th>\n",
       "      <th></th>\n",
       "      <th></th>\n",
       "      <th></th>\n",
       "      <th></th>\n",
       "      <th></th>\n",
       "      <th></th>\n",
       "      <th></th>\n",
       "      <th></th>\n",
       "      <th></th>\n",
       "    </tr>\n",
       "  </thead>\n",
       "  <tbody>\n",
       "    <tr>\n",
       "      <th>2021-01-04</th>\n",
       "      <td>1728.239990</td>\n",
       "      <td>363.938812</td>\n",
       "      <td>1728.239990</td>\n",
       "      <td>368.790009</td>\n",
       "      <td>1760.650024</td>\n",
       "      <td>375.450012</td>\n",
       "      <td>1707.849976</td>\n",
       "      <td>364.820007</td>\n",
       "      <td>1757.540039</td>\n",
       "      <td>375.309998</td>\n",
       "      <td>1901900</td>\n",
       "      <td>110210800</td>\n",
       "    </tr>\n",
       "    <tr>\n",
       "      <th>2021-01-05</th>\n",
       "      <td>1740.920044</td>\n",
       "      <td>366.445343</td>\n",
       "      <td>1740.920044</td>\n",
       "      <td>371.329987</td>\n",
       "      <td>1747.670044</td>\n",
       "      <td>372.500000</td>\n",
       "      <td>1718.015015</td>\n",
       "      <td>368.049988</td>\n",
       "      <td>1725.000000</td>\n",
       "      <td>368.100006</td>\n",
       "      <td>1145300</td>\n",
       "      <td>66426200</td>\n",
       "    </tr>\n",
       "    <tr>\n",
       "      <th>2021-01-06</th>\n",
       "      <td>1735.290039</td>\n",
       "      <td>368.636139</td>\n",
       "      <td>1735.290039</td>\n",
       "      <td>373.549988</td>\n",
       "      <td>1748.000000</td>\n",
       "      <td>376.980011</td>\n",
       "      <td>1699.000000</td>\n",
       "      <td>369.119995</td>\n",
       "      <td>1702.630005</td>\n",
       "      <td>369.709991</td>\n",
       "      <td>2602100</td>\n",
       "      <td>107997700</td>\n",
       "    </tr>\n",
       "    <tr>\n",
       "      <th>2021-01-07</th>\n",
       "      <td>1787.250000</td>\n",
       "      <td>374.113159</td>\n",
       "      <td>1787.250000</td>\n",
       "      <td>379.100006</td>\n",
       "      <td>1788.400024</td>\n",
       "      <td>379.899994</td>\n",
       "      <td>1737.050049</td>\n",
       "      <td>375.910004</td>\n",
       "      <td>1740.060059</td>\n",
       "      <td>376.100006</td>\n",
       "      <td>2265000</td>\n",
       "      <td>68766800</td>\n",
       "    </tr>\n",
       "    <tr>\n",
       "      <th>2021-01-08</th>\n",
       "      <td>1807.209961</td>\n",
       "      <td>376.244720</td>\n",
       "      <td>1807.209961</td>\n",
       "      <td>381.260010</td>\n",
       "      <td>1809.839966</td>\n",
       "      <td>381.489990</td>\n",
       "      <td>1773.535034</td>\n",
       "      <td>377.100006</td>\n",
       "      <td>1787.979980</td>\n",
       "      <td>380.589996</td>\n",
       "      <td>2050600</td>\n",
       "      <td>71677200</td>\n",
       "    </tr>\n",
       "  </tbody>\n",
       "</table>\n",
       "</div>"
      ],
      "text/plain": [
       "              Adj Close                    Close                     High  \\\n",
       "                   GOOG         SPY         GOOG         SPY         GOOG   \n",
       "Date                                                                        \n",
       "2021-01-04  1728.239990  363.938812  1728.239990  368.790009  1760.650024   \n",
       "2021-01-05  1740.920044  366.445343  1740.920044  371.329987  1747.670044   \n",
       "2021-01-06  1735.290039  368.636139  1735.290039  373.549988  1748.000000   \n",
       "2021-01-07  1787.250000  374.113159  1787.250000  379.100006  1788.400024   \n",
       "2021-01-08  1807.209961  376.244720  1807.209961  381.260010  1809.839966   \n",
       "\n",
       "                                Low                     Open              \\\n",
       "                   SPY         GOOG         SPY         GOOG         SPY   \n",
       "Date                                                                       \n",
       "2021-01-04  375.450012  1707.849976  364.820007  1757.540039  375.309998   \n",
       "2021-01-05  372.500000  1718.015015  368.049988  1725.000000  368.100006   \n",
       "2021-01-06  376.980011  1699.000000  369.119995  1702.630005  369.709991   \n",
       "2021-01-07  379.899994  1737.050049  375.910004  1740.060059  376.100006   \n",
       "2021-01-08  381.489990  1773.535034  377.100006  1787.979980  380.589996   \n",
       "\n",
       "             Volume             \n",
       "               GOOG        SPY  \n",
       "Date                            \n",
       "2021-01-04  1901900  110210800  \n",
       "2021-01-05  1145300   66426200  \n",
       "2021-01-06  2602100  107997700  \n",
       "2021-01-07  2265000   68766800  \n",
       "2021-01-08  2050600   71677200  "
      ]
     },
     "execution_count": 3,
     "metadata": {},
     "output_type": "execute_result"
    }
   ],
   "source": [
    "data = yf.download('GOOG SPY', start='2021-01-01', end='2022-01-01', progress=False)\n",
    "data.head()"
   ]
  },
  {
   "cell_type": "code",
   "execution_count": 4,
   "metadata": {},
   "outputs": [
    {
     "data": {
      "text/html": [
       "<div>\n",
       "<style scoped>\n",
       "    .dataframe tbody tr th:only-of-type {\n",
       "        vertical-align: middle;\n",
       "    }\n",
       "\n",
       "    .dataframe tbody tr th {\n",
       "        vertical-align: top;\n",
       "    }\n",
       "\n",
       "    .dataframe thead th {\n",
       "        text-align: right;\n",
       "    }\n",
       "</style>\n",
       "<table border=\"1\" class=\"dataframe\">\n",
       "  <thead>\n",
       "    <tr style=\"text-align: right;\">\n",
       "      <th></th>\n",
       "      <th>GOOG</th>\n",
       "      <th>SPY</th>\n",
       "    </tr>\n",
       "    <tr>\n",
       "      <th>Date</th>\n",
       "      <th></th>\n",
       "      <th></th>\n",
       "    </tr>\n",
       "  </thead>\n",
       "  <tbody>\n",
       "    <tr>\n",
       "      <th>2021-01-04</th>\n",
       "      <td>1728.239990</td>\n",
       "      <td>368.790009</td>\n",
       "    </tr>\n",
       "    <tr>\n",
       "      <th>2021-01-05</th>\n",
       "      <td>1740.920044</td>\n",
       "      <td>371.329987</td>\n",
       "    </tr>\n",
       "    <tr>\n",
       "      <th>2021-01-06</th>\n",
       "      <td>1735.290039</td>\n",
       "      <td>373.549988</td>\n",
       "    </tr>\n",
       "    <tr>\n",
       "      <th>2021-01-07</th>\n",
       "      <td>1787.250000</td>\n",
       "      <td>379.100006</td>\n",
       "    </tr>\n",
       "    <tr>\n",
       "      <th>2021-01-08</th>\n",
       "      <td>1807.209961</td>\n",
       "      <td>381.260010</td>\n",
       "    </tr>\n",
       "  </tbody>\n",
       "</table>\n",
       "</div>"
      ],
      "text/plain": [
       "                   GOOG         SPY\n",
       "Date                               \n",
       "2021-01-04  1728.239990  368.790009\n",
       "2021-01-05  1740.920044  371.329987\n",
       "2021-01-06  1735.290039  373.549988\n",
       "2021-01-07  1787.250000  379.100006\n",
       "2021-01-08  1807.209961  381.260010"
      ]
     },
     "execution_count": 4,
     "metadata": {},
     "output_type": "execute_result"
    }
   ],
   "source": [
    "data = yf.download('GOOG SPY', start='2021-01-01', end='2022-01-01', progress=False)['Close']\n",
    "data.head()"
   ]
  },
  {
   "cell_type": "code",
   "execution_count": 5,
   "metadata": {},
   "outputs": [
    {
     "data": {
      "text/html": [
       "<div>\n",
       "<style scoped>\n",
       "    .dataframe tbody tr th:only-of-type {\n",
       "        vertical-align: middle;\n",
       "    }\n",
       "\n",
       "    .dataframe tbody tr th {\n",
       "        vertical-align: top;\n",
       "    }\n",
       "\n",
       "    .dataframe thead th {\n",
       "        text-align: right;\n",
       "    }\n",
       "</style>\n",
       "<table border=\"1\" class=\"dataframe\">\n",
       "  <thead>\n",
       "    <tr style=\"text-align: right;\">\n",
       "      <th></th>\n",
       "      <th>GOOG</th>\n",
       "      <th>SPY</th>\n",
       "    </tr>\n",
       "    <tr>\n",
       "      <th>Date</th>\n",
       "      <th></th>\n",
       "      <th></th>\n",
       "    </tr>\n",
       "  </thead>\n",
       "  <tbody>\n",
       "    <tr>\n",
       "      <th>2021-01-04</th>\n",
       "      <td>NaN</td>\n",
       "      <td>NaN</td>\n",
       "    </tr>\n",
       "    <tr>\n",
       "      <th>2021-01-05</th>\n",
       "      <td>0.007310</td>\n",
       "      <td>0.006864</td>\n",
       "    </tr>\n",
       "    <tr>\n",
       "      <th>2021-01-06</th>\n",
       "      <td>-0.003239</td>\n",
       "      <td>0.005961</td>\n",
       "    </tr>\n",
       "    <tr>\n",
       "      <th>2021-01-07</th>\n",
       "      <td>0.029504</td>\n",
       "      <td>0.014748</td>\n",
       "    </tr>\n",
       "    <tr>\n",
       "      <th>2021-01-08</th>\n",
       "      <td>0.011106</td>\n",
       "      <td>0.005682</td>\n",
       "    </tr>\n",
       "  </tbody>\n",
       "</table>\n",
       "</div>"
      ],
      "text/plain": [
       "                GOOG       SPY\n",
       "Date                          \n",
       "2021-01-04       NaN       NaN\n",
       "2021-01-05  0.007310  0.006864\n",
       "2021-01-06 -0.003239  0.005961\n",
       "2021-01-07  0.029504  0.014748\n",
       "2021-01-08  0.011106  0.005682"
      ]
     },
     "execution_count": 5,
     "metadata": {},
     "output_type": "execute_result"
    }
   ],
   "source": [
    "returns = np.log(data).diff()\n",
    "returns.head()"
   ]
  },
  {
   "cell_type": "code",
   "execution_count": 6,
   "metadata": {},
   "outputs": [
    {
     "data": {
      "text/html": [
       "<div>\n",
       "<style scoped>\n",
       "    .dataframe tbody tr th:only-of-type {\n",
       "        vertical-align: middle;\n",
       "    }\n",
       "\n",
       "    .dataframe tbody tr th {\n",
       "        vertical-align: top;\n",
       "    }\n",
       "\n",
       "    .dataframe thead th {\n",
       "        text-align: right;\n",
       "    }\n",
       "</style>\n",
       "<table border=\"1\" class=\"dataframe\">\n",
       "  <thead>\n",
       "    <tr style=\"text-align: right;\">\n",
       "      <th></th>\n",
       "      <th>GOOG</th>\n",
       "      <th>SPY</th>\n",
       "    </tr>\n",
       "  </thead>\n",
       "  <tbody>\n",
       "    <tr>\n",
       "      <th>GOOG</th>\n",
       "      <td>1.000000</td>\n",
       "      <td>0.691421</td>\n",
       "    </tr>\n",
       "    <tr>\n",
       "      <th>SPY</th>\n",
       "      <td>0.691421</td>\n",
       "      <td>1.000000</td>\n",
       "    </tr>\n",
       "  </tbody>\n",
       "</table>\n",
       "</div>"
      ],
      "text/plain": [
       "          GOOG       SPY\n",
       "GOOG  1.000000  0.691421\n",
       "SPY   0.691421  1.000000"
      ]
     },
     "execution_count": 6,
     "metadata": {},
     "output_type": "execute_result"
    }
   ],
   "source": [
    "returns.corr()"
   ]
  },
  {
   "cell_type": "code",
   "execution_count": 8,
   "metadata": {},
   "outputs": [
    {
     "data": {
      "image/png": "[encoded data removed]",
      "text/plain": [
       "<Figure size 432x288 with 1 Axes>"
      ]
     },
     "metadata": {
      "needs_background": "light"
     },
     "output_type": "display_data"
    }
   ],
   "source": [
    "sample = returns.sample(60)\n",
    "plt.scatter(x=sample['SPY'], y=sample['GOOG']);"
   ]
  },
  {
   "cell_type": "code",
   "execution_count": 9,
   "metadata": {},
   "outputs": [
    {
     "data": {
      "text/plain": [
       "array([1.05035735, 0.00128829])"
      ]
     },
     "execution_count": 9,
     "metadata": {},
     "output_type": "execute_result"
    }
   ],
   "source": [
    "reg = np.polyfit(sample['SPY'], sample['GOOG'], deg = 1)\n",
    "reg"
   ]
  },
  {
   "cell_type": "code",
   "execution_count": 10,
   "metadata": {},
   "outputs": [
    {
     "data": {
      "text/plain": [
       "[<matplotlib.lines.Line2D at 0x2084cfd32b0>]"
      ]
     },
     "execution_count": 10,
     "metadata": {},
     "output_type": "execute_result"
    },
    {
     "data": {
      "image/png": "[encoded data removed]",
      "text/plain": [
       "<Figure size 432x288 with 1 Axes>"
      ]
     },
     "metadata": {
      "needs_background": "light"
     },
     "output_type": "display_data"
    }
   ],
   "source": [
    "trend = np.polyval(reg, sample['SPY'])\n",
    "plt.scatter(sample['SPY'], sample['GOOG'])\n",
    "plt.plot(sample[\"SPY\"], trend, 'r')"
   ]
  },
  {
   "cell_type": "markdown",
   "metadata": {},
   "source": [
    "# Regression as a Technical Indicator"
   ]
  },
  {
   "cell_type": "code",
   "execution_count": 13,
   "metadata": {},
   "outputs": [
    {
     "data": {
      "text/html": [
       "<div>\n",
       "<style scoped>\n",
       "    .dataframe tbody tr th:only-of-type {\n",
       "        vertical-align: middle;\n",
       "    }\n",
       "\n",
       "    .dataframe tbody tr th {\n",
       "        vertical-align: top;\n",
       "    }\n",
       "\n",
       "    .dataframe thead th {\n",
       "        text-align: right;\n",
       "    }\n",
       "</style>\n",
       "<table border=\"1\" class=\"dataframe\">\n",
       "  <thead>\n",
       "    <tr style=\"text-align: right;\">\n",
       "      <th></th>\n",
       "      <th>time</th>\n",
       "      <th>Close</th>\n",
       "    </tr>\n",
       "    <tr>\n",
       "      <th>Date</th>\n",
       "      <th></th>\n",
       "      <th></th>\n",
       "    </tr>\n",
       "  </thead>\n",
       "  <tbody>\n",
       "    <tr>\n",
       "      <th>2021-12-27</th>\n",
       "      <td>248</td>\n",
       "      <td>477.26</td>\n",
       "    </tr>\n",
       "    <tr>\n",
       "      <th>2021-12-28</th>\n",
       "      <td>249</td>\n",
       "      <td>476.87</td>\n",
       "    </tr>\n",
       "    <tr>\n",
       "      <th>2021-12-29</th>\n",
       "      <td>250</td>\n",
       "      <td>477.48</td>\n",
       "    </tr>\n",
       "    <tr>\n",
       "      <th>2021-12-30</th>\n",
       "      <td>251</td>\n",
       "      <td>476.16</td>\n",
       "    </tr>\n",
       "    <tr>\n",
       "      <th>2021-12-31</th>\n",
       "      <td>252</td>\n",
       "      <td>474.96</td>\n",
       "    </tr>\n",
       "  </tbody>\n",
       "</table>\n",
       "</div>"
      ],
      "text/plain": [
       "            time   Close\n",
       "Date                    \n",
       "2021-12-27   248  477.26\n",
       "2021-12-28   249  476.87\n",
       "2021-12-29   250  477.48\n",
       "2021-12-30   251  476.16\n",
       "2021-12-31   252  474.96"
      ]
     },
     "execution_count": 13,
     "metadata": {},
     "output_type": "execute_result"
    }
   ],
   "source": [
    "data = pd.DataFrame(yf.download('SPY', start='2021-01-01', end='2022-01-01', progress=False)['Close'])\n",
    "time = np.arange(1, len(data) + 1)\n",
    "data['time'] = time\n",
    "data = data[['time', 'Close']]\n",
    "data = round(data,2)\n",
    "data.tail()"
   ]
  },
  {
   "cell_type": "code",
   "execution_count": 14,
   "metadata": {},
   "outputs": [
    {
     "data": {
      "text/plain": [
       "array([  0.38083816, 378.14345633])"
      ]
     },
     "execution_count": 14,
     "metadata": {},
     "output_type": "execute_result"
    }
   ],
   "source": [
    "reg = np.polyfit(data['time'], data['Close'], deg = 1)\n",
    "reg"
   ]
  },
  {
   "cell_type": "code",
   "execution_count": 18,
   "metadata": {},
   "outputs": [
    {
     "data": {
      "text/plain": [
       "[<matplotlib.lines.Line2D at 0x2084d115e80>]"
      ]
     },
     "execution_count": 18,
     "metadata": {},
     "output_type": "execute_result"
    },
    {
     "data": {
      "image/png": "[encoded data removed]",
      "text/plain": [
       "<Figure size 720x432 with 1 Axes>"
      ]
     },
     "metadata": {
      "needs_background": "light"
     },
     "output_type": "display_data"
    }
   ],
   "source": [
    "trend = np.polyval(reg, data['time'][-63:])\n",
    "std = data['Close'][-63:].std()\n",
    "plt.figure(figsize=(10,6))\n",
    "plt.plot(data['time'], data['Close'], label =\"S&P500\")\n",
    "plt.plot(data['time'][-63:], trend, 'r--')\n",
    "plt.plot(data['time'][-63:], trend - std, 'g--')\n",
    "plt.plot(data['time'][-63:], trend + std, 'g--')"
   ]
  },
  {
   "cell_type": "code",
   "execution_count": 23,
   "metadata": {},
   "outputs": [
    {
     "data": {
      "text/plain": [
       "473.35299742744326"
      ]
     },
     "execution_count": 23,
     "metadata": {},
     "output_type": "execute_result"
    }
   ],
   "source": [
    "predict = np.poly1d(reg)\n",
    "predict(250)"
   ]
  },
  {
   "cell_type": "markdown",
   "metadata": {},
   "source": [
    "# Simple Scatter Plot with Trendline"
   ]
  },
  {
   "cell_type": "code",
   "execution_count": 28,
   "metadata": {},
   "outputs": [
    {
     "data": {
      "text/plain": [
       "<AxesSubplot:xlabel='time', ylabel='Close'>"
      ]
     },
     "execution_count": 28,
     "metadata": {},
     "output_type": "execute_result"
    },
    {
     "data": {
      "image/png": "[encoded data removed]",
      "text/plain": [
       "<Figure size 432x288 with 1 Axes>"
      ]
     },
     "metadata": {
      "needs_background": "light"
     },
     "output_type": "display_data"
    }
   ],
   "source": [
    "sb.regplot(x='time', y='Close', fit_reg=True, data=data[-63:])"
   ]
  },
  {
   "cell_type": "code",
   "execution_count": null,
   "metadata": {},
   "outputs": [],
   "source": []
  }
 ],
 "metadata": {
  "interpreter": {
   "hash": "c0fe8b7a7fb0093230b755e6f807c74875ca3e8fa43b00bff5b4d2c0a60aeb9f"
  },
  "kernelspec": {
   "display_name": "Python 3.8.10 ('base')",
   "language": "python",
   "name": "python3"
  },
  "language_info": {
   "codemirror_mode": {
    "name": "ipython",
    "version": 3
   },
   "file_extension": ".py",
   "mimetype": "text/x-python",
   "name": "python",
   "nbconvert_exporter": "python",
   "pygments_lexer": "ipython3",
   "version": "3.8.10"
  },
  "orig_nbformat": 4
 },
 "nbformat": 4,
 "nbformat_minor": 2
}
